{
 "cells": [
  {
   "cell_type": "markdown",
   "metadata": {},
   "source": [
    "# Inventory Management"
   ]
  },
  {
   "cell_type": "code",
   "execution_count": 1,
   "metadata": {},
   "outputs": [],
   "source": [
    "import time \n",
    "import json"
   ]
  },
  {
   "cell_type": "code",
   "execution_count": 2,
   "metadata": {},
   "outputs": [],
   "source": [
    "Products={ 1:{\"Name\":\"Yeppie Noodles\",\"Price\":15,\"Quantity\":45219,\"Expiry_Date\":\"10/9/2022\" },\n",
    "           2:{\"Name\":\"Maggie\",\"Price\":12,\"Quantity\":10600,\"Expiry_Date\":\"7/6/2022\"},\n",
    "           3:{\"Name\":\"Coca Cola\",\"Price\":45,\"Quantity\":25904,\"Expiry_Date\":\"18/12/2022\" },\n",
    "           4:{\"Name\":\"Coffee\",\"Price\":30,\"Quantity\":62225,\"Expiry_Date\":\"29/11/2022\" },\n",
    "           5:{\"Name\":\"Milk\",\"Price\":60,\"Quantity\":62455,\"Expiry_Date\":\"12/3/2022\" },\n",
    "           6:{\"Name\":\"Tea bag\",\"Price\":20,\"Quantity\":76545,\"Expiry_Date\":\"1/5/2022\" },\n",
    "           7:{\"Name\":\"Slice\",\"Price\":35,\"Quantity\":74444,\"Expiry_Date\":\"2/11/2022\" },\n",
    "           8:{\"Name\":\"Fruti\",\"Price\":10,\"Quantity\":12435,\"Expiry_Date\":\"10/4/2022\" },\n",
    "           9:{\"Name\":\"Biscuit\",\"Price\":10,\"Quantity\":46945,\"Expiry_Date\":\"12/4/2022\" },\n",
    "          10:{\"Name\":\"Good day\",\"Price\":5,\"Quantity\":44575,\"Expiry_Date\":\"12/12/21\" },\n",
    "          11:{\"Name\":\"Parle G\",\"Price\":5,\"Quantity\":65467,\"Expiry_Date\":\"6/5/2022\"},\n",
    "          12:{\"Name\":\"Lays\",\"Price\":10,\"Quantity\":65678,\"Expiry_Date\":\"9/8/2022\" },\n",
    "          13:{\"Name\":\"Kurkure\",\"Price\":5,\"Quantity\":24565,\"Expiry_Date\":\"3/2/2021\"},\n",
    "          14:{\"Name\":\"Potato Chips\",\"Price\":10,\"Quantity\":87965,\"Expiry_Date\":\"11/8/2022\" },\n",
    "          15:{\"Name\":\"Kellogg\",\"Price\":50,\"Quantity\":90845,\"Expiry_Date\":\"30/12/2021\" },\n",
    "          16:{\"Name\":\"Pickle\",\"Price\":70,\"Quantity\":12365,\"Expiry_Date\":\"6/9/2022\"},\n",
    "          17:{\"Name\":\"Icecream\",\"Price\":100,\"Quantity\":12345,\"Expiry_Date\":\"12/4/2022\" },\n",
    "          18:{\"Name\":\"Cheez\",\"Price\":120,\"Quantity\":12265,\"Expiry_Date\":\"16/8/2022\" },\n",
    "          19:{\"Name\":\"Butter\",\"Price\":110,\"Quantity\":98745,\"Expiry_Date\":\"14/1/2022\" },\n",
    "          20:{\"Name\":\"Paneer\",\"Price\":89,\"Quantity\":24578,\"Expiry_Date\":\"18/1/2022\"},\n",
    "          21:{\"Name\":\"Chocolate\",\"Price\":90,\"Quantity\":98654,\"Expiry_Date\":\"3/8/2022\" },\n",
    "          22:{\"Name\":\"DairyMilk\",\"Price\":60,\"Quantity\":34597,\"Expiry_Date\":\"18/12/2022\"},\n",
    "          23:{\"Name\":\"Kitkat\",\"Price\":50,\"Quantity\":34567,\"Expiry_Date\":\"11/7/2022\" },\n",
    "          24:{\"Name\":\"Chocos\",\"Price\":45,\"Quantity\":98356,\"Expiry_Date\":\"7/3/2022\"},\n",
    "          25:{\"Name\":\"Bornvita\",\"Price\":100,\"Quantity\":12345,\"Expiry_Date\":\"1/5/2022\" },\n",
    "          26:{\"Name\":\"Colgate\",\"Price\":68,\"Quantity\":12365,\"Expiry_Date\":\"19/3/2022\"},\n",
    "          27:{\"Name\":\"Dryfruits\",\"Price\":200,\"Quantity\":89645,\"Expiry_Date\":\"2/11/2022\"},\n",
    "          28:{\"Name\":\"Oil\",\"Price\":250,\"Quantity\":65456,\"Expiry_Date\":\"7/1/2022\" },\n",
    "          29:{\"Name\":\"Coconut oil\",\"Price\":250,\"Quantity\":70945,\"Expiry_Date\":\"5/2/2022\"},\n",
    "          30:{\"Name\":\"Rice\",\"Price\":300,\"Quantity\":98766,\"Expiry_Date\":\"7/9/2022\"}}\n",
    " "
   ]
  },
  {
   "cell_type": "code",
   "execution_count": 3,
   "metadata": {},
   "outputs": [],
   "source": [
    "FinalBill={}\n",
    "cart = []"
   ]
  },
  {
   "cell_type": "code",
   "execution_count": 4,
   "metadata": {},
   "outputs": [],
   "source": [
    "def Bill():\n",
    "    for a in cart:\n",
    "        c = cart.count(a)\n",
    "        key = Products[a][\"Name\"]\n",
    "        value = {\"Price\": Products[a][\"Price\"],\"Expiry date\": Products[a][\"Expiry_Date\"],\"Quantity Purchase\":c,\"Your Total Price\":Products[a][\"Price\"]*c, \"Time of Purchase\":Time}\n",
    "        FinalBill[key] = value\n",
    "    print(FinalBill)"
   ]
  },
  {
   "cell_type": "code",
   "execution_count": 5,
   "metadata": {},
   "outputs": [],
   "source": [
    "def remove_item(a):\n",
    "    if (a>=1 and a<=30):\n",
    "        while(a in cart):\n",
    "             cart.remove(a) \n",
    "             print(\"You remove \"+Products[a][\"Name\"]+\" from your cart\")\n",
    "    else:\n",
    "        print(\"Please Enter the Valid choice!!!!\")"
   ]
  },
  {
   "cell_type": "code",
   "execution_count": 6,
   "metadata": {},
   "outputs": [],
   "source": [
    "def Show_Cart(a):\n",
    "    if (a>=1 and a<=30): \n",
    "        cart.append(a)     \n",
    "        if ((Products[a][\"Quantity\"]) != 0):\n",
    "            print(\"Name of your Product:\", Products[a][\"Name\"])\n",
    "            print(\"Price of your Product:\", Products[a][\"Price\"])\n",
    "            print(\"Expiry date of your Product:\", Products[a][\"Expiry_Date\"])\n",
    "        else:\n",
    "            print(\"Sorry, The item is out of stock!!!\")          \n",
    "    else:\n",
    "        print(\"Please Enter the Valid choice\")"
   ]
  },
  {
   "cell_type": "code",
   "execution_count": null,
   "metadata": {},
   "outputs": [
    {
     "name": "stdout",
     "output_type": "stream",
     "text": [
      "------------------------------------------\n",
      "             Welcome to D-Mart             \n",
      "---------------------MENU----------------------\n",
      "1.Show Items\n",
      "2.Buy Items\n",
      "3.Remove Items\n",
      "4.Show My Cart\n",
      "5.Exit\n",
      "Enter your choice:2\n",
      "Enter the Id of the product which you want to buy:2\n",
      "Name of your Product: Maggie\n",
      "Price of your Product: 12\n",
      "Expiry date of your Product: 7/6/2022\n",
      "---------------------MENU----------------------\n",
      "1.Show Items\n",
      "2.Buy Items\n",
      "3.Remove Items\n",
      "4.Show My Cart\n",
      "5.Exit\n"
     ]
    }
   ],
   "source": [
    " if __name__ == '__main__':\n",
    "    \n",
    "    print(\"------------------------------------------\")\n",
    "    print(\"             Welcome to D-Mart             \")\n",
    "    \n",
    "    while (True):\n",
    "        print(\"---------------------MENU----------------------\")\n",
    "        print(\"1.Show Items\\n2.Buy Items\\n3.Remove Items\\n4.Show My Cart\\n5.Exit\")\n",
    "\n",
    "        ch = int(input(\"Enter your choice:\"))\n",
    "        if ch == 1:\n",
    "            for i in Products:\n",
    "                print(i, \":\", Products[i][\"Name\"])\n",
    "                \n",
    "        elif ch == 2:\n",
    "            a = int(input(\"Enter the Id of the product which you want to buy:\"))\n",
    "            Show_Cart(a)\n",
    "            Products[a][\"Quantity\"] = Products[a][\"Quantity\"] - 1\n",
    "            Time = time.ctime()\n",
    "            \n",
    "        elif ch == 3:\n",
    "            a = int(input(\"Enter the Id of the product which you want to remove:\"))\n",
    "            remove_item(a)\n",
    "            \n",
    "        elif ch == 4:\n",
    "            Bill()   \n",
    "            \n",
    "        elif ch == 5:\n",
    "            print(\"You are Exit from D-mart,Thank you!!!\")\n",
    "            break\n",
    "            \n",
    "        else:\n",
    "            print(\"Please Enter the Valid choice!!!!\")"
   ]
  },
  {
   "cell_type": "code",
   "execution_count": null,
   "metadata": {},
   "outputs": [],
   "source": [
    "Records = Products"
   ]
  },
  {
   "cell_type": "code",
   "execution_count": null,
   "metadata": {},
   "outputs": [],
   "source": [
    "js = json.dumps(Products)"
   ]
  },
  {
   "cell_type": "code",
   "execution_count": null,
   "metadata": {},
   "outputs": [],
   "source": [
    "js"
   ]
  },
  {
   "cell_type": "code",
   "execution_count": null,
   "metadata": {},
   "outputs": [],
   "source": [
    "fd = open(\"Products.json\",\"w\")\n",
    "fd.write(js)\n",
    "fd.close()"
   ]
  },
  {
   "cell_type": "code",
   "execution_count": null,
   "metadata": {},
   "outputs": [],
   "source": []
  }
 ],
 "metadata": {
  "kernelspec": {
   "display_name": "Python 3",
   "language": "python",
   "name": "python3"
  },
  "language_info": {
   "codemirror_mode": {
    "name": "ipython",
    "version": 3
   },
   "file_extension": ".py",
   "mimetype": "text/x-python",
   "name": "python",
   "nbconvert_exporter": "python",
   "pygments_lexer": "ipython3",
   "version": "3.8.5"
  }
 },
 "nbformat": 4,
 "nbformat_minor": 5
}
